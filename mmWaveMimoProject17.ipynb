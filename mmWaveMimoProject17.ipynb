{
  "nbformat": 4,
  "nbformat_minor": 0,
  "metadata": {
    "colab": {
      "provenance": []
    },
    "kernelspec": {
      "name": "python3",
      "display_name": "Python 3"
    },
    "language_info": {
      "name": "python"
    }
  },
  "cells": [
    {
      "cell_type": "markdown",
      "source": [
        "# mmWave MIMO channel design"
      ],
      "metadata": {
        "id": "PsSSoHpsIPG0"
      }
    },
    {
      "cell_type": "code",
      "execution_count": null,
      "metadata": {
        "colab": {
          "base_uri": "https://localhost:8080/",
          "height": 1000
        },
        "id": "qyLLVZFF533X",
        "outputId": "8a186f90-10a6-437f-fa91-d1cd5c2c666c"
      },
      "outputs": [
        {
          "output_type": "stream",
          "name": "stdout",
          "text": [
            "0\n",
            "1\n",
            "2\n",
            "3\n",
            "4\n",
            "5\n",
            "6\n",
            "7\n",
            "8\n",
            "9\n",
            "10\n",
            "11\n",
            "12\n",
            "13\n",
            "14\n",
            "15\n",
            "16\n",
            "17\n",
            "18\n",
            "19\n",
            "20\n",
            "21\n",
            "22\n",
            "23\n",
            "24\n",
            "25\n",
            "26\n",
            "27\n",
            "28\n",
            "29\n",
            "30\n",
            "31\n",
            "32\n",
            "33\n",
            "34\n",
            "35\n",
            "36\n",
            "37\n",
            "38\n",
            "39\n",
            "40\n",
            "41\n",
            "42\n",
            "43\n",
            "44\n",
            "45\n",
            "46\n",
            "47\n",
            "48\n",
            "49\n",
            "50\n",
            "51\n",
            "52\n",
            "53\n",
            "54\n",
            "55\n",
            "56\n",
            "57\n",
            "58\n",
            "59\n",
            "60\n",
            "61\n",
            "62\n",
            "63\n",
            "64\n",
            "65\n",
            "66\n",
            "67\n",
            "68\n",
            "69\n",
            "70\n",
            "71\n",
            "72\n",
            "73\n",
            "74\n",
            "75\n",
            "76\n",
            "77\n",
            "78\n",
            "79\n",
            "80\n",
            "81\n",
            "82\n",
            "83\n",
            "84\n",
            "85\n",
            "86\n",
            "87\n",
            "88\n",
            "89\n",
            "90\n",
            "91\n",
            "92\n",
            "93\n",
            "94\n",
            "95\n",
            "96\n",
            "97\n",
            "98\n",
            "99\n"
          ]
        },
        {
          "output_type": "execute_result",
          "data": {
            "text/plain": [
              "Text(0.5, 0, 'SNRdB')"
            ]
          },
          "metadata": {},
          "execution_count": 3
        },
        {
          "output_type": "display_data",
          "data": {
            "text/plain": [
              "<Figure size 432x288 with 1 Axes>"
            ],
            "image/png": "[encoded data removed]"
          },
          "metadata": {
            "needs_background": "light"
          }
        }
      ],
      "source": [
        "import numpy as np\n",
        "import numpy.random as nr\n",
        "import numpy.linalg as nl\n",
        "import matplotlib.pyplot as plt\n",
        "import MIMO\n",
        "\n",
        "# simulation parameters\n",
        "t = 32; r = 32;\n",
        "numRF = 6;\n",
        "G = 64; # Number of angles in the dictionary\n",
        "L = 8;  # number of multipaths\n",
        "Ns = 6; # number of symbols\n",
        "ITER = 100;\n",
        "\n",
        "# Initializations\n",
        "SNRdB = np.arange(-5,6,1);\n",
        "C_HYB = np.zeros(len(SNRdB)); # Hybrid combiner capacity\n",
        "C_MIMO = np.zeros(len(SNRdB)); # Ideal combiner capacity; MIMO combiner is ideal\n",
        "\n",
        "# G-quantized Txarray response matrix\n",
        "A_T = MIMO.ArrayDictionary(G,t);\n",
        "A_R = MIMO.ArrayDictionary(G,r);\n",
        "\n",
        "for ix in range(ITER):\n",
        "    print(ix);\n",
        "\n",
        "    # Channel generation\n",
        "    tax = np.random.choice(G, L, replace=False);\n",
        "    # np.random.choice Generates a random sample from a given 1-D array without replacement\n",
        "    rax = np.random.choice(G, L, replace=False);\n",
        "    # Generate channel gains for L multipath components\n",
        "    chGain = 1/np.sqrt(2)*(nr.normal(0,1,L)+1j*nr.normal(0,1,L));\n",
        "    A_T_genie = A_T[:, tax]; # Transmitter side array response vector\n",
        "    # assuming perfect knowledge of angles of arrival\n",
        "    A_R_genie = A_R[:, rax];# Transmitter side array response vector\n",
        "    # assuming perfect knowledge of angles of arrival\n",
        "    # Generate the H matrix\n",
        "    H = np.sqrt(t*r/L)*nl.multi_dot([A_R_genie,np.diag(chGain),MIMO.H(A_T_genie)]);\n",
        "    # Genie is the ideal case when the Angles of Arr and Depart are perfectly known\n",
        "    U,S,VH = nl.svd(H, full_matrices = True);\n",
        "\n",
        "    V = MIMO.H(VH); # ideal BB precoder\n",
        "    Fopt = V[:,0:Ns]; # Ideal BB precoder is of size Nrf*Ns\n",
        "    # FBB and FRF found after applying SOMP\n",
        "    FBB, FRF = MIMO.SOMP(Fopt, A_T, np.identity(t), numRF);\n",
        "    FBB_NORM = FBB*np.sqrt(Ns)/nl.norm(np.matmul(FRF,FBB));\n",
        "    for cx in range(len(SNRdB)):\n",
        "      npow = 10**(-SNRdB[cx]/10);\n",
        "      mmseINV = nl.inv(MIMO.AHA(np.matmul(H,Fopt)) + npow*Ns*np.identity(Ns));\n",
        "      Wmmse_opt = nl.multi_dot([H, Fopt, mmseINV]);\n",
        "      C_MIMO[cx] = C_MIMO[cx] + MIMO.mimo_capacity(nl.multi_dot([MIMO.H(Wmmse_opt),H,Fopt]), 1/Ns*np.identity(Ns), npow*MIMO.AHA(Wmmse_opt));\n",
        "      HFp = nl.multi_dot([H,FRF,FBB_NORM]);\n",
        "      Ryy = 1/Ns*MIMO.AAH(HFp) + npow*np.identity(r);\n",
        "      Wmmse_Hyb = np.matmul(HFp, nl.inv(MIMO.AHA(HFp) + npow*Ns*np.identity(Ns)));\n",
        "      WBB, WRF = MIMO.SOMP(Wmmse_Hyb, A_R, Ryy, numRF);\n",
        "      C_HYB[cx] = C_HYB[cx] + MIMO.mimo_capacity(nl.multi_dot([MIMO.H(WBB), MIMO.H(WRF), H, FRF, FBB_NORM]), 1/Ns*np.identity(Ns), npow*MIMO.AHA(np.matmul(WRF,WBB)));\n",
        "\n",
        "\n",
        "C_MIMO = C_MIMO/ITER; C_HYB = C_HYB/ITER;\n",
        "plt.plot(SNRdB, C_MIMO,'r-s');\n",
        "plt.plot(SNRdB, C_HYB,'b^-.');\n",
        "plt.grid(1,which='both')\n",
        "plt.legend([\"Ideal Digital\", \"Hybrid Precoder\"], loc =\"lower right\");\n",
        "plt.suptitle('Capacity vs SNR for mmWave MIMO')\n",
        "plt.ylabel('Capacity (b/s/Hz)')\n",
        "plt.xlabel('SNRdB')"
      ]
    },
    {
      "cell_type": "code",
      "source": [],
      "metadata": {
        "id": "CjnVDlqcIMGV"
      },
      "execution_count": null,
      "outputs": []
    }
  ]
}